{
  "nbformat": 4,
  "nbformat_minor": 0,
  "metadata": {
    "colab": {
      "provenance": []
    },
    "kernelspec": {
      "name": "python3",
      "display_name": "Python 3"
    },
    "language_info": {
      "name": "python"
    }
  },
  "cells": [
    {
      "cell_type": "markdown",
      "source": [
        "DATA TOOLKIT"
      ],
      "metadata": {
        "id": "wQ_nGOHpURGP"
      }
    },
    {
      "cell_type": "markdown",
      "source": [
        "1 What is NumPy, and why is it widely used in Python?\n",
        "* NumPy (short for Numerical Python) is a powerful library in Python used for numerical computing. It provides support for working with large, multi-dimensional arrays and matrices, along with a collection of high-level mathematical functions to operate on these arrays.\n",
        "\n",
        " NumPy is Widely Used:\n",
        "\n",
        " 1 Efficient Array Operations:\n",
        "\n",
        "NumPy arrays (ndarray) are more compact and faster than Python lists.\n",
        "\n",
        "Supports vectorized operations (no need for slow Python loops).\n",
        "\n",
        " 2 Mathematical Functions:\n",
        "\n",
        "Includes many functions for linear algebra, statistics, Fourier transforms, etc.\n",
        "\n",
        "3 Broadcasting:\n",
        "\n",
        "Enables operations between arrays of different shapes, making code cleaner and faster.\n",
        "\n",
        "4 Interoperability:\n",
        "\n",
        "Works well with other Python libraries like Pandas, Matplotlib, SciPy, scikit-learn, etc.\n",
        "\n",
        " 5 Used in Data Science and Machine Learning:\n",
        "Acts as the foundation for most data science tools in Python.\n"
      ],
      "metadata": {
        "id": "lXqUAJkyUlnL"
      }
    },
    {
      "cell_type": "markdown",
      "source": [
        "2 How does broadcasting work in NumPy?\n",
        "* Broadcasting in NumPy is a powerful feature that allows operations between arrays of different shapes without explicitly copying.\n",
        "\n",
        "Broadcasting automatically expands smaller arrays during arithmetic operations so that they have the same shape as larger ones — without actually copying data."
      ],
      "metadata": {
        "id": "s6nq_ZL4WRzr"
      }
    },
    {
      "cell_type": "markdown",
      "source": [
        "3 What is a Pandas DataFrame?\n",
        "* A Pandas DataFrame is a 2-dimensional labeled data structure in Python — similar to a table in a database or an Excel spreadsheet.\n",
        "\n",
        "It is part of the Pandas library, which is widely used for data manipulation and analysis.\n"
      ],
      "metadata": {
        "id": "miRhP8u-XJL9"
      }
    },
    {
      "cell_type": "markdown",
      "source": [
        "4 Explain the use of the groupby() method in Pandas?\n",
        "* The groupby() method in Pandas is used to group data based on one or more columns, so you can then perform operations like sum, mean, count, etc. on each group separately.\n",
        "\n",
        "It’s very useful for analyzing categorized or grouped data — similar to SQL's GROUP BY.\n",
        "\n",
        "Split the data into groups.\n",
        "\n",
        "Apply a function (e.g., sum, mean).\n",
        "\n",
        "Combine the results into a new DataFrame."
      ],
      "metadata": {
        "id": "apF7-vyzXfV_"
      }
    },
    {
      "cell_type": "markdown",
      "source": [
        "5 Why is Seaborn preferred for statistical visualizations?\n",
        "* Seaborn is a powerful Python library built on top of Matplotlib, and it's preferred for statistical visualizations because it makes it easier, cleaner, and more effective to create attractive and informative plots.\n",
        "\n",
        "1 High-level API:\n",
        "\n",
        "Simple syntax for complex plots (e.g., box plots, violin plots, heatmaps).\n",
        "Built-in Support for DataFrames:\n",
        "\n",
        "W0rks directly with Pandas DataFrames and column names.\n",
        "\n",
        "3 Automatic Statistical Aggregation:\n",
        "\n",
        "Automatically computes means, medians, confidence intervals, etc.\n",
        "\n",
        "Great for visualizing distributions and trends.\n",
        "\n",
        "4 Beautiful Default Styles:\n",
        "\n",
        "Cleaner and more visually appealing than raw Matplotlib.\n",
        "\n",
        "Ready for presentations and reports.\n",
        "\n",
        "5 Rich Variety of Plots:\n",
        "\n",
        " Supports statistical plots like:\n",
        "\n",
        "boxplot, violinplot, pairplot, distplot, heatmap, regplot\n",
        "\n",
        "6 Built-in Themes and Color Palettes:\n",
        "\n",
        "Easy to set visual themes"
      ],
      "metadata": {
        "id": "-OXLRBxdX2r9"
      }
    },
    {
      "cell_type": "markdown",
      "source": [
        "6 What are the differences between NumPy arrays and Python lists?\n",
        "* Here are the key differences between NumPy arrays and Python lists:\n",
        "\n",
        "Feature\tNumPy Array\tPython List\n",
        "Performance\tFaster (uses C under the hood)\tSlower (pure Python)\n",
        "Memory Usage\tLess memory (homogeneous data type)\tMore memory (can store different types)\n",
        "Data Type\tHomogeneous (all elements same type)\tHeterogeneous (different data types allowed)\n",
        "Functionality\tSupports many mathematical operations directly (e.g. +, *, matrix ops)\tNo built-in vectorized math operations\n",
        "Slicing/Indexing\tMore powerful (e.g. advanced slicing, boolean indexing)\tBasic slicing and indexing\n",
        "Broadcasting\tSupports broadcasting (auto expand shapes for ops)\tNo broadcasting\n",
        "Convenience\tRequires numpy library\tBuilt into Python\n",
        "Use Case\tScientific computing, large datasets"
      ],
      "metadata": {
        "id": "tCLEwkkoY_uL"
      }
    },
    {
      "cell_type": "markdown",
      "source": [
        "7 What is a heatmap, and when should it be used?\n",
        "* A heatmap is a data visualization technique that uses color to represent values in a matrix or 2D dataset. Each cell in the heatmap shows a value with a corresponding color, making it easy to spot patterns, correlations, and outliers.\n",
        " When to Use a Heatmap:\n",
        "1 To Show Correlation Between Variables\n",
        "\n",
        "Example: Correlation matrix of features in a dataset.\n",
        "\n",
        "Use it when you want to understand relationships between multiple variables.\n",
        "\n",
        "2 To Visualize a Matrix or 2D Table\n",
        "\n",
        "Example: Student scores (rows = students, columns = subjects).\n",
        "\n",
        "Makes it easy to see highs, lows, and trends.\n",
        "\n",
        "3 To Represent Density or Frequency\n",
        "\n",
        "Example: Website clicks on a page or population density.\n",
        "\n",
        "Highlights hotspots or areas with more activity.\n",
        "\n",
        "4 To Compare Values Across Categories\n",
        "\n",
        "Example: Sales across regions and months.\n",
        "\n",
        "Useful when you want to compare categories over time or groups."
      ],
      "metadata": {
        "id": "bBbXLRLiZXR8"
      }
    },
    {
      "cell_type": "markdown",
      "source": [
        "8 What does the term “vectorized operation” mean in NumPy?\n",
        "* In NumPy, a vectorized operation means performing operations on entire arrays (vectors, matrices, etc.) without using explicit loops (like for or while).\n",
        "\n",
        " Key Points:\n",
        "\n",
        "Operates on whole arrays at once\n",
        "\n",
        "Faster and more efficient than using loops\n",
        "\n",
        "Takes advantage of low-level optimizations (written in C)\n"
      ],
      "metadata": {
        "id": "rPUpaoMxaORV"
      }
    },
    {
      "cell_type": "markdown",
      "source": [
        "9 How does Matplotlib differ from Plotly?\n",
        "* Matplotlib and Plotly are both Python libraries for data visualization, but they differ significantly in features, interactivity, and usage. Here's a comparison:\n",
        "\n",
        "🔷 1. Interactivity\n",
        "Matplotlib:\n",
        "\n",
        "Primarily static plots (images).\n",
        "\n",
        "Limited interactivity using tools like %matplotlib notebook or external widgets.\n",
        "\n",
        "Plotly:\n",
        "\n",
        "Highly interactive plots by default (zoom, pan, hover tooltips).\n",
        "\n",
        "Great for dashboards and web apps.\n",
        "\n",
        "🔷 2. Output Format\n",
        "Matplotlib:\n",
        "\n",
        "Generates images (PNG, PDF, SVG).\n",
        "\n",
        "Good for print-ready figures or reports.\n",
        "\n",
        "Plotly:\n",
        "\n",
        "Generates interactive HTML/JavaScript visualizations.\n",
        "\n",
        "Ideal for web or Jupyter Notebook.\n",
        "\n",
        "🔷 3. Ease of Use\n",
        "Matplotlib:\n",
        "\n",
        "Syntax is more traditional and lower-level.\n",
        "\n",
        "More code is often required for customization.\n",
        "\n",
        "Plotly:\n",
        "\n",
        "Higher-level API (especially with plotly.express).\n",
        "\n",
        "Less code for attractive, interactive plots.\n"
      ],
      "metadata": {
        "id": "m35vZbJXanpN"
      }
    },
    {
      "cell_type": "markdown",
      "source": [
        "10 What is the significance of hierarchical indexing in Pandas?\n",
        "* Hierarchical indexing (also called MultiIndexing) in Pandas allows you to work with higher-dimensional data in a lower-dimensional (2D) DataFrame or Series. It is a powerful feature that lets you group and organize data with multiple levels of indexes.\n",
        "\n",
        "🔑 Significance of Hierarchical Indexing in Pandas:\n",
        "1. Better Organization of Data\n",
        "It allows for multi-level grouping, which is helpful when you want to organize data by multiple categories.\n",
        "\n",
        "Example:\n",
        "You can index sales data by Country, then by Year.\n",
        "\n",
        "python\n",
        "Copy\n",
        "Edit\n",
        "import pandas as pd\n",
        "\n",
        "data = {\n",
        "    ('India', 2023): 100,\n",
        "    ('India', 2024): 120,\n",
        "    ('USA', 2023): 150,\n",
        "    ('USA', 2024): 170\n",
        "}\n",
        "\n",
        "index = pd.MultiIndex.from_tuples(data.keys(), names=[\"Country\", \"Year\"])\n",
        "series = pd.Series(data, index=index)\n",
        "print(series)\n",
        "2. Easy Subsetting and Slicing\n",
        "You can easily select data from one level of the index or filter based on multiple levels.\n",
        "print(series.loc[\"India\"])\n",
        "3. Supports Complex Grouping\n",
        "It works very well with groupby() operations, especially when analyzing grouped statistics.\n",
        "df = series.reset_index(name='Sales')\n",
        "grouped = df.groupby(['Country'])['Sales'].mean()\n",
        "4. Efficient Reshaping\n",
        "With functions like unstack(), stack(), and pivot_table(), you can reshape the data easily using the levels in a MultiIndex.\n",
        "\n",
        "df = series.unstack()  # Converts 'Year' to columns\n",
        "5. Compact Data Representation\n",
        "Instead of creating multiple columns for hierarchy, a MultiIndex can represent complex relationships in a more compact format."
      ],
      "metadata": {
        "id": "yQvWDc8sbFmu"
      }
    },
    {
      "cell_type": "markdown",
      "source": [
        "11 What is the role of Seaborn’s pairplot() function?\n",
        "* The pairplot() function in Seaborn is used to create a matrix of scatter plots for visualizing relationships between multiple variables in a dataset, especially useful for exploratory data analysis (EDA).\n",
        "\n",
        " Role of pairplot():\n",
        "Visualizes pairwise relationships:\n",
        "\n",
        "Plots scatter plots for each pair of numerical features.\n",
        "\n",
        "Helps identify correlations, clusters, and outliers.\n",
        "\n",
        "Shows distributions:\n",
        "\n",
        "The diagonal typically displays histograms or KDE plots of individual variables.\n",
        "\n",
        "Supports categorical distinction:\n",
        "\n",
        "You can color the plots based on a categorical variable using the hue parameter."
      ],
      "metadata": {
        "id": "KbZoEYzYbp_c"
      }
    },
    {
      "cell_type": "markdown",
      "source": [
        "12 What is the purpose of the describe() function in Pandas?\n",
        "* The describe() function in Pandas is used to generate summary statistics of a DataFrame or Series. It provides useful insights about the data, especially numerical columns.\n",
        "\n",
        " Purpose of describe():\n",
        "Quickly understand the distribution, central tendency, and spread of your data.\n",
        "\n",
        "Helpful for data exploration and initial analysis.\n"
      ],
      "metadata": {
        "id": "9F345kt3b-tG"
      }
    },
    {
      "cell_type": "markdown",
      "source": [
        "13 Why is handling missing data important in Pandas?\n",
        "* Handling missing data is important in Pandas because missing values can:\n",
        "\n",
        "Distort analysis results: Many functions (like mean, sum, or correlation) give incorrect or misleading results if missing values are not handled properly.\n",
        "\n",
        "Cause errors: Some models or visualizations may not work if missing data is present.\n",
        "\n",
        "Impact data quality: Clean and complete data leads to better insights, predictions, and decisions."
      ],
      "metadata": {
        "id": "8tLgU584cRh5"
      }
    },
    {
      "cell_type": "markdown",
      "source": [
        "14 What are the benefits of using Plotly for data visualization?\n",
        "* Plotly is a powerful library for data visualization in Python (and other languages), especially known for its interactive and web-friendly capabilities. Here are the main benefits of using Plotly:\n",
        "\n",
        "1. Interactivity\n",
        "Plotly charts are interactive by default (zoom, pan, hover tooltips, etc.).\n",
        "\n",
        "Useful for exploring data dynamically and making dashboards.\n",
        "\n",
        "2. High-Quality Visuals\n",
        "Produces publication-ready and aesthetically pleasing visualizations.\n",
        "\n",
        "Great for reports, presentations, and web apps.\n",
        "\n",
        "3. Wide Range of Chart Types\n",
        "Supports a variety of charts:\n",
        "\n",
        "Line, bar, scatter\n",
        "\n",
        "Heatmaps, 3D plots\n",
        "\n",
        "Maps (geo, choropleth)\n",
        "\n",
        "Financial charts (candlestick, OHLC)"
      ],
      "metadata": {
        "id": "76WMfRrNcviV"
      }
    },
    {
      "cell_type": "markdown",
      "source": [
        "15 How does NumPy handle multidimensional arrays?\n",
        "* NumPy handles multidimensional arrays using a powerful object called the ndarray (N-dimensional array). Here's how it works:\n",
        "\n",
        "1. Creation\n",
        "You can create multidimensional arrays using functions like np.array(), np.zeros(), np.ones(), and np.random.\n",
        "import numpy as np\n",
        "a = np.array([[1, 2, 3], [4, 5, 6]])  # 2D array\n",
        "2. Shape and Dimensions\n",
        ".shape tells you the dimensions (rows, columns, etc.).\n",
        "\n",
        ".ndim gives the number of dimensions.\n",
        "size gives the total number of elements.\n",
        "a.shape    # (2, 3)\n",
        "a.ndim     # 2\n",
        "a.size     # 6\n",
        "3. Indexing and Slicing\n",
        "You can access elements using [row][column] or advanced slicing.\n",
        "a[0, 1]     # 2\n",
        "a[:, 1]     # [2, 5] (second column)\n",
        "4. Broadcasting\n",
        "NumPy allows operations on arrays of different shapes by broadcasting (automatic dimension matching).\n",
        "a + 10   # Adds 10 to every element\n",
        "5. Vectorized Operations\n",
        "Operations like a + b, a * 2, np.mean(a), etc., work element-wise and efficiently without loops.\n",
        "\n",
        "6. Reshaping\n",
        "You can change the shape using .reshape() or .ravel().\n",
        "a.reshape(3, 2)  # reshapes into 3x2\n",
        "Summary:\n",
        "NumPy’s multidimensional arrays are memory-efficient, fast, and support complex mathematical operations with ease. They are the foundation for scientific computing in Python."
      ],
      "metadata": {
        "id": "E7uuLi2gdFzc"
      }
    },
    {
      "cell_type": "markdown",
      "source": [
        "16 What is the role of Bokeh in data visualization?\n",
        "* Bokeh is a powerful Python library for interactive and web-based data visualizations. Its main role in data visualization includes:\n",
        "\n",
        "🔹 1. Interactive Plots\n",
        "Bokeh creates interactive charts like zoomable, pannable, hoverable plots.\n",
        "\n",
        "Useful for dashboards and real-time data exploration.\n",
        "\n",
        "🔹 2. Web Integration\n",
        "Generates HTML, JSON, or JavaScript files that can be embedded in web apps.\n",
        "\n",
        "Perfect for creating interactive visualizations in Flask, Django, or standalone pages.\n",
        "\n",
        "🔹 3. High-performance for Large Data\n",
        "Can handle large datasets efficiently in the browser.\n",
        "\n",
        "Supports server-side downsampling and streaming of data.\n",
        "\n",
        "🔹 4. Easy Syntax with Python\n",
        "Designed for Python developers; similar to matplotlib or pandas plotting syntax.\n",
        "\n",
        "You can create complex visuals with relatively simple code.\n",
        "\n",
        "🔹 5. Versatile Plot Types\n",
        "Supports line plots, bar charts, scatter plots, heatmaps, maps, and more.\n",
        "\n",
        "Also allows linked brushing, custom tooltips, and widgets (sliders, buttons)."
      ],
      "metadata": {
        "id": "vYJlcz3nd7Es"
      }
    },
    {
      "cell_type": "markdown",
      "source": [
        "17 Explain the difference between apply() and map() in Pandas?\n",
        "*In Pandas, both apply() and map() are used to apply functions to data, but they are used in different contexts and have different capabilities. Here's the main difference:\n",
        "\n",
        "🔹 map()\n",
        "Used with: Series (single column)\n",
        "\n",
        "Purpose: Applies a function element-wise to each value in the Series.\n",
        "\n",
        "Common use: Simple operations on each element, like formatting or replacing.\n",
        "\n",
        "✅ Example:\n",
        "import pandas as pd\n",
        "\n",
        "s = pd.Series([1, 2, 3])\n",
        "s.map(lambda x: x * 10)\n",
        "Output:\n",
        "0    10\n",
        "1    20\n",
        "2    30\n",
        "dtype: int64\n",
        "🔹 apply()\n",
        "Used with: Both Series and DataFrame\n",
        "\n",
        "Purpose:\n",
        "\n",
        "On Series: similar to map(), but more flexible.\n",
        "\n",
        "On DataFrame: applies a function to rows or columns.\n",
        "\n",
        "Common use: Row/column-wise operations, aggregations, custom logic.\n",
        "\n",
        "✅ Example on Series:\n",
        "s.apply(lambda x: x * 10)\n",
        "Same output as map().\n",
        "\n",
        "✅ Example on DataFrame:\n",
        "df = pd.DataFrame({'a': [1, 2], 'b': [3, 4]})\n",
        "df.apply(sum, axis=0)  # column-wise sum\n",
        "Output:\n",
        "a    3\n",
        "b    7\n",
        "dtype: int64"
      ],
      "metadata": {
        "id": "GlMOGSDteR8F"
      }
    },
    {
      "cell_type": "markdown",
      "source": [
        "18 What are some advanced features of NumPy?\n",
        "* NumPy offers several advanced features that make it powerful for numerical and scientific computing. Here are some of the key ones:\n",
        "\n",
        "1. Broadcasting\n",
        "Allows operations between arrays of different shapes without copying data.\n",
        "\n",
        "Example:\n",
        "\n",
        "python\n",
        "Copy\n",
        "Edit\n",
        "a = np.array([1, 2, 3])\n",
        "b = 2\n",
        "print(a + b)  # Output: [3 4 5]\n",
        "2. Vectorization\n",
        "Speeds up operations by applying functions to entire arrays without loops.\n",
        "\n",
        "Example:\n",
        "a = np.array([1, 2, 3])\n",
        "b = np.array([4, 5, 6])\n",
        "print(a * b)  # Output: [4 10 18]\n",
        "3. Masked Arrays\n",
        "Useful for handling missing or invalid data in arrays.\n",
        "\n",
        "Example:\n",
        "import numpy.ma as ma\n",
        "data = ma.array([1, 2, -999, 4], mask=[0, 0, 1, 0])\n",
        "print(data.mean())  # Ignores the masked value\n",
        "4. Structured Arrays\n",
        "Allows you to define custom data types (like records or C structs).\n",
        "\n",
        "Example:\n",
        "dt = np.dtype([('name', 'U10'), ('age', 'i4')])\n",
        "data = np.array([('Alice', 25), ('Bob', 30)], dtype=dt)\n",
        "print(data['name'])  # Output: ['Alice' 'Bob']\n",
        "\n",
        "\n"
      ],
      "metadata": {
        "id": "BxYr2yZRfVWp"
      }
    },
    {
      "cell_type": "markdown",
      "source": [
        "19 How does Pandas simplify time series analysis?\n",
        "* Pandas simplifies time series analysis in Python through several built-in features that make working with date and time data more intuitive and powerful. Here's how:\n",
        "\n",
        " 1. Date and Time Handling with DatetimeIndex\n",
        "Pandas can convert strings to datetime objects using pd.to_datetime().\n",
        "\n",
        "Once converted, you can set a column as an index (DatetimeIndex) which enables time-based operations.\n",
        "df['date'] = pd.to_datetime(df['date'])\n",
        "df.set_index('date', inplace=True)\n",
        " 2. Easy Resampling\n",
        "You can change the frequency of time series data easily — e.g., daily to monthly, hourly to weekly.\n",
        "df.resample('M').mean()  # Monthly average"
      ],
      "metadata": {
        "id": "dJ0WNWPUgjKL"
      }
    },
    {
      "cell_type": "markdown",
      "source": [
        "20 What is the role of a pivot table in Pandas?\n",
        "* A pivot table in Pandas is a powerful tool used for summarizing, reorganizing, and analyzing data. It allows you to transform long-format data into a more readable format by grouping and aggregating based on one or more keys.\n",
        " Role of a Pivot Table in Pandas:\n",
        "Data Summarization\n",
        "It helps in summarizing data by grouping based on categories and applying aggregation functions (like sum, mean, count, etc.).\n",
        "\n",
        "Data Reshaping\n",
        "A pivot table can transform data from a \"long\" format to a \"wide\" format.\n",
        "\n",
        "Multi-dimensional Analysis\n",
        "You can analyze data across multiple dimensions (rows and columns), like comparing sales by region and product.\n",
        "\n",
        "Custom Aggregations\n",
        "Allows the use of custom aggregation functions using the aggfunc parameter."
      ],
      "metadata": {
        "id": "ISbxxIz3hAEQ"
      }
    },
    {
      "cell_type": "markdown",
      "source": [
        "21 Why is NumPy’s array slicing faster than Python’s list slicing?\n",
        "* NumPy’s array slicing is faster than Python’s list slicing due to several key reasons:\n",
        "\n",
        " 1. Homogeneous Data Types\n",
        "NumPy arrays store elements of the same data type in a contiguous block of memory.\n",
        "\n",
        "Python lists can hold mixed data types and are more like arrays of pointers.\n",
        "\n",
        " This makes NumPy arrays more memory-efficient and enables faster access and slicing.\n",
        "\n",
        " 2. C Implementation\n",
        "NumPy is written in C, so operations like slicing are executed at a lower level.\n",
        "\n",
        "This reduces the overhead of Python's interpreted execution.\n",
        "\n",
        " 3. No Data Copy on Slice (View vs Copy)\n",
        "NumPy slicing returns a view (not a copy) of the original array, avoiding extra memory allocation.\n",
        "\n",
        "Python list slicing returns a new list (a full copy), which takes more time and memory."
      ],
      "metadata": {
        "id": "GCTavMDwhZDb"
      }
    },
    {
      "cell_type": "markdown",
      "source": [
        "22 What are some common use cases for Seaborn?\n",
        "* Seaborn is a Python data visualization library built on top of Matplotlib, and it's designed for making statistical graphics easier and more attractive. Here are some common use cases for Seaborn:\n",
        "\n",
        "1. Exploratory Data Analysis (EDA)\n",
        "Seaborn is widely used to explore datasets visually before applying any modeling. It helps identify patterns, correlations, and outliers.\n",
        "\n",
        "2. Visualizing Relationships Between Variables\n",
        "scatterplot(): to show relationships between two numeric variables.\n",
        "\n",
        "lineplot(): to show trends over time or another continuous variable.\n",
        "\n",
        "relplot(): a figure-level interface for scatter and line plots.\n",
        "\n",
        "3. Comparing Categories\n",
        "boxplot() and violinplot(): to compare distributions across categories.\n",
        "\n",
        "barplot(): to compare means or aggregated values for categories."
      ],
      "metadata": {
        "id": "KYQqCu2phxED"
      }
    },
    {
      "cell_type": "markdown",
      "source": [
        "PRACTICAL"
      ],
      "metadata": {
        "id": "Bi8yqaZWiQ-s"
      }
    },
    {
      "cell_type": "code",
      "source": [
        "1 How do you create a 2D NumPy array and calculate the sum of each row.\n",
        "import numpy as np\n",
        "\n",
        "# Step 1: Create a 2D NumPy array\n",
        "array_2d = np.array([[1, 2, 3],\n",
        "                     [4, 5, 6],\n",
        "                     [7, 8, 9]])\n",
        "\n",
        "# Step 2: Calculate sum of each row\n",
        "row_sums = np.sum(array_2d, axis=1)\n",
        "\n",
        "print(\"Original Array:\")\n",
        "print(array_2d)\n",
        "\n",
        "print(\"\\nSum of Each Row:\")\n",
        "print(row_sums)"
      ],
      "metadata": {
        "id": "nrJm9xZ0iWa8"
      },
      "execution_count": null,
      "outputs": []
    },
    {
      "cell_type": "markdown",
      "source": [
        "Original Array:\n",
        "[[1 2 3]\n",
        " [4 5 6]\n",
        " [7 8 9]]\n",
        "\n",
        "Sum of Each Row:\n",
        "[ 6 15 24]"
      ],
      "metadata": {
        "id": "6EkO1IGpjAHn"
      }
    },
    {
      "cell_type": "code",
      "source": [
        "2 Write a Pandas script to find the mean of a specific column in a DataFrame.\n",
        "* import pandas as pd\n",
        "\n",
        "# Sample DataFrame\n",
        "data = {\n",
        "    'Name': ['Alice', 'Bob', 'Charlie', 'David'],\n",
        "    'Age': [25, 30, 35, 40],\n",
        "    'Score': [85, 90, 95, 88]\n",
        "}\n",
        "\n",
        "df = pd.DataFrame(data)\n",
        "\n",
        "# Calculate mean of the 'Score' column\n",
        "mean_score = df['Score'].mean()\n",
        "\n",
        "print(\"Mean of the 'Score' column:\", mean_score)"
      ],
      "metadata": {
        "id": "IqzGhue7jImR"
      },
      "execution_count": null,
      "outputs": []
    },
    {
      "cell_type": "markdown",
      "source": [
        "Mean of the 'Score' column: 89.5"
      ],
      "metadata": {
        "id": "LnVP2wUKjbe_"
      }
    },
    {
      "cell_type": "code",
      "source": [
        "3 Create a scatter plot using Matplotlib.\n",
        "import matplotlib.pyplot as plt\n",
        "\n",
        "# Sample data\n",
        "x = [5, 7, 8, 7, 2, 17, 2, 9]\n",
        "y = [99, 86, 87, 88, 100, 86, 103, 87]\n",
        "\n",
        "# Create scatter plot\n",
        "plt.scatter(x, y, color='blue', marker='o')\n",
        "\n",
        "# Add titles and labels\n",
        "plt.title(\"Simple Scatter Plot\")\n",
        "plt.xlabel(\"X Axis\")\n",
        "plt.ylabel(\"Y Axis\")\n",
        "\n",
        "# Show the plot\n",
        "plt.show()"
      ],
      "metadata": {
        "id": "gp50Izu-jgVm"
      },
      "execution_count": null,
      "outputs": []
    },
    {
      "cell_type": "markdown",
      "source": [
        "plt.scatter()"
      ],
      "metadata": {
        "id": "xcpKF8SrkPl1"
      }
    },
    {
      "cell_type": "code",
      "source": [
        "4 How do you calculate the correlation matrix using Seaborn and visualize it with a heatmap.\n",
        "# Sample DataFrame\n",
        "data = {\n",
        "    'A': [1, 2, 3, 4, 5],\n",
        "    'B': [5, 4, 3, 2, 1],\n",
        "    'C': [2, 3, 4, 5, 6]\n",
        "}\n",
        "df = pd.DataFrame(data)"
      ],
      "metadata": {
        "id": "M18PC5C0keaH"
      },
      "execution_count": null,
      "outputs": []
    },
    {
      "cell_type": "markdown",
      "source": [
        "[1,2,3,4,5,5,4,3,2,1,2,3,4,5,6]"
      ],
      "metadata": {
        "id": "q7Pj5QzDlQYl"
      }
    },
    {
      "cell_type": "code",
      "source": [
        "5 Generate a bar plot using plotly.\n",
        "import plotly.graph_objects as go\n",
        "\n",
        "# Sample data\n",
        "fruits = ['Apples', 'Oranges', 'Bananas', 'Grapes']\n",
        "quantities = [10, 15, 7, 12]\n",
        "\n",
        "# Create the bar plot\n",
        "fig = go.Figure(data=[\n",
        "    go.Bar(name='Fruit Count', x=fruits, y=quantities)\n",
        "])\n",
        "\n",
        "# Customize layout\n",
        "fig.update_layout(\n",
        "    title='Fruit Quantities',\n",
        "    xaxis_title='Fruit',\n",
        "    yaxis_title='Quantity',\n",
        "    template='plotly_dark'\n",
        ")\n",
        "\n",
        "# Show the plot\n",
        "fig.show()\n"
      ],
      "metadata": {
        "id": "28pCoBJLpRRR"
      },
      "execution_count": null,
      "outputs": []
    },
    {
      "cell_type": "markdown",
      "source": [
        "[10,15,7,12]"
      ],
      "metadata": {
        "id": "4y9OEyEspqsh"
      }
    },
    {
      "cell_type": "code",
      "source": [
        "6 Create a DataFrame and add a new column based on an existing column.\n",
        "import pandas as pd\n",
        "\n",
        "# Step 1: Create a DataFrame\n",
        "data = {\n",
        "    'Name': ['Alice', 'Bob', 'Charlie'],\n",
        "    'Score': [85, 62, 90]\n",
        "}\n",
        "\n",
        "df = pd.DataFrame(data)\n",
        "\n",
        "# Step 2: Add a new column based on the 'Score' column\n",
        "df['Passed'] = df['Score'] >= 70\n",
        "\n",
        "# Display the updated DataFrame\n",
        "print(df)"
      ],
      "metadata": {
        "id": "aR6EQrhopzF9"
      },
      "execution_count": null,
      "outputs": []
    },
    {
      "cell_type": "markdown",
      "source": [
        "     Name   Score   Passed\n",
        "\n",
        "0    Alice     85     True\n",
        "\n",
        "1     Bob     62   False\n",
        "\n",
        "2  Charlie     90    True"
      ],
      "metadata": {
        "id": "lmfpaeBEql8-"
      }
    },
    {
      "cell_type": "code",
      "source": [
        "7  Write a program to perform element-wise multiplication of two NumPy arrays.\n",
        "import numpy as np\n",
        "\n",
        "# Define two NumPy arrays\n",
        "array1 = np.array([1, 2, 3, 4])\n",
        "array2 = np.array([5, 6, 7, 8])\n",
        "\n",
        "# Perform element-wise multiplication\n",
        "result = array1 * array2\n",
        "\n",
        "# Display the result\n",
        "print(\"Array 1:\", array1)\n",
        "print(\"Array 2:\", array2)\n",
        "print(\"Element-wise Multiplication:\", result)"
      ],
      "metadata": {
        "id": "xfDBNX2QqxTA"
      },
      "execution_count": null,
      "outputs": []
    },
    {
      "cell_type": "markdown",
      "source": [
        "Array 1: [1 2 3 4]\n",
        "Array 2: [5 6 7 8]\n",
        "Element-wise Multiplication: [ 5 12 21 32]"
      ],
      "metadata": {
        "id": "-tenXgoqsEBr"
      }
    },
    {
      "cell_type": "code",
      "source": [
        "8 Create a line plot with multiple lines using Matplotlib.\n",
        "import matplotlib.pyplot as plt\n",
        "\n",
        "# Sample data\n",
        "x = [1, 2, 3, 4, 5]\n",
        "y1 = [2, 3, 5, 7, 11]\n",
        "y2 = [1, 4, 6, 8, 10]\n",
        "y3 = [3, 5, 2, 6, 9]\n",
        "\n",
        "# Create a line plot with multiple lines\n",
        "plt.plot(x, y1, label='Line 1', color='blue', marker='o')\n",
        "plt.plot(x, y2, label='Line 2', color='green', marker='s')\n",
        "plt.plot(x, y3, label='Line 3', color='red', marker='^')\n",
        "\n",
        "# Add labels and title\n",
        "plt.xlabel('X-axis')\n",
        "plt.ylabel('Y-axis')\n",
        "plt.title('Multiple Line Plot Example')\n",
        "\n",
        "# Add a legend\n",
        "plt.legend()\n",
        "\n",
        "# Show the plot\n",
        "plt.grid(True)\n",
        "plt.show()"
      ],
      "metadata": {
        "id": "CA9IoQUit977"
      },
      "execution_count": null,
      "outputs": []
    },
    {
      "cell_type": "markdown",
      "source": [
        "false"
      ],
      "metadata": {
        "id": "j83gRFL7uRpS"
      }
    },
    {
      "cell_type": "code",
      "source": [
        "9 Generate a Pandas DataFrame and filter rows where a column value is greater than a threshold.\n",
        "* import pandas as pd\n",
        "\n",
        "# Step 1: Create the DataFrame\n",
        "data = {\n",
        "    'Name': ['Alice', 'Bob', 'Charlie', 'David', 'Eva'],\n",
        "    'Score': [85, 42, 77, 90, 66]\n",
        "}\n",
        "df = pd.DataFrame(data)\n",
        "\n",
        "# Step 2: Define the threshold\n",
        "threshold = 70\n",
        "\n",
        "# Step 3: Filter rows where 'Score' > threshold\n",
        "filtered_df = df[df['Score'] > threshold]\n",
        "\n",
        "# Display the filtered DataFrame\n",
        "print(filtered_df)"
      ],
      "metadata": {
        "id": "PwxX6-wauVYw"
      },
      "execution_count": null,
      "outputs": []
    },
    {
      "cell_type": "markdown",
      "source": [
        "     Name  Score\n",
        "\n",
        "0   Alice     85\n",
        "\n",
        "2 Charlie     77\n",
        "\n",
        "3   David     90\n"
      ],
      "metadata": {
        "id": "aoourbn_u5qQ"
      }
    },
    {
      "cell_type": "code",
      "source": [
        "10 Create a histogram using Seaborn to visualize a distribution.\n",
        "import seaborn as sns\n",
        "import matplotlib.pyplot as plt\n",
        "\n",
        "# Sample data: random distribution\n",
        "import numpy as np\n",
        "data = np.random.randn(1000)  # 1000 values from a normal distribution\n",
        "\n",
        "# Create histogram\n",
        "sns.histplot(data, bins=30, kde=True, color='skyblue')\n",
        "\n",
        "# Add labels and title\n",
        "plt.title(\"Histogram of Normally Distributed Data\")\n",
        "plt.xlabel(\"Value\")\n",
        "plt.ylabel(\"Frequency\")\n",
        "\n",
        "# Show the plot\n",
        "plt.show()"
      ],
      "metadata": {
        "id": "uKIblSvsvM3-"
      },
      "execution_count": null,
      "outputs": []
    },
    {
      "cell_type": "markdown",
      "source": [
        "histogram of normally distributed data"
      ],
      "metadata": {
        "id": "fh9zKlpbvn9D"
      }
    },
    {
      "cell_type": "code",
      "source": [
        "11 Perform matrix multiplication using NumPy.\n",
        "import numpy as np\n",
        "\n",
        "# Define two matrices\n",
        "A = np.array([[1, 2],\n",
        "              [3, 4]])\n",
        "\n",
        "B = np.array([[5, 6],\n",
        "              [7, 8]])\n",
        "\n",
        "# Matrix multiplication\n",
        "result = np.matmul(A, B)\n",
        "\n",
        "# Or you can use: result = A @ B\n",
        "\n",
        "print(\"Matrix A:\\n\", A)\n",
        "print(\"Matrix B:\\n\", B)\n",
        "print(\"Result of A * B:\\n\", result)"
      ],
      "metadata": {
        "id": "kolcTJJAvv2k"
      },
      "execution_count": null,
      "outputs": []
    },
    {
      "cell_type": "markdown",
      "source": [
        "Matrix A:\n",
        "\n",
        " [[1 2]\n",
        "\n",
        "  [3 4]]\n",
        "\n",
        "Matrix B:\n",
        "\n",
        " [[5 6]\n",
        "\n",
        "  [7 8]]\n",
        "\n",
        "Result of A * B:\n",
        "\n",
        " [[19 22]\n",
        "\n",
        "  [43 50]]"
      ],
      "metadata": {
        "id": "YT8RLBMHwFCB"
      }
    },
    {
      "cell_type": "code",
      "source": [
        "12  Use Pandas to load a CSV file and display its first 5 rows.\n",
        "\n",
        "import pandas as pd\n",
        "\n",
        "# Load the CSV file\n",
        "df = pd.read_csv('your_file.csv')  # Replace with your actual file name or path\n",
        "\n",
        "# Display the first 5 rows\n",
        "print(df.head())"
      ],
      "metadata": {
        "id": "cxYqOgUdwR2x"
      },
      "execution_count": null,
      "outputs": []
    },
    {
      "cell_type": "markdown",
      "source": [
        "file.csv"
      ],
      "metadata": {
        "id": "AyMO5NY_w7To"
      }
    },
    {
      "cell_type": "code",
      "source": [
        "13 Create a 3D scatter plot using Plotly.\n",
        "import plotly.express as px\n",
        "import pandas as pd\n",
        "\n",
        "# Sample data\n",
        "data = {\n",
        "    'X': [1, 2, 3, 4, 5],\n",
        "    'Y': [10, 11, 12, 13, 14],\n",
        "    'Z': [5, 6, 7, 8, 9],\n",
        "    'Label': ['A', 'B', 'C', 'D', 'E']\n",
        "}\n",
        "df = pd.DataFrame(data)\n",
        "\n",
        "# Create 3D scatter plot\n",
        "fig = px.scatter_3d(df, x='X', y='Y', z='Z', color='Label', size_max=10)\n",
        "\n",
        "# Show plot\n",
        "fig.show()"
      ],
      "metadata": {
        "id": "e5xmK3sQxARH"
      },
      "execution_count": null,
      "outputs": []
    },
    {
      "cell_type": "markdown",
      "source": [
        "[A,B,C,D,E]"
      ],
      "metadata": {
        "id": "3Wx-mKF9xccJ"
      }
    }
  ]
}